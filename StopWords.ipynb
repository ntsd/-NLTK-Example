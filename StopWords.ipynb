{
 "cells": [
  {
   "cell_type": "code",
   "execution_count": 24,
   "metadata": {
    "collapsed": true,
    "deletable": true,
    "editable": true
   },
   "outputs": [],
   "source": [
    "from nltk.corpus import stopwords"
   ]
  },
  {
   "cell_type": "code",
   "execution_count": 25,
   "metadata": {
    "collapsed": true,
    "deletable": true,
    "editable": true
   },
   "outputs": [],
   "source": [
    "from nltk.tokenize import word_tokenize"
   ]
  },
  {
   "cell_type": "code",
   "execution_count": 26,
   "metadata": {
    "collapsed": true,
    "deletable": true,
    "editable": true
   },
   "outputs": [],
   "source": [
    "exampleText = \"This is example text for stop words.\""
   ]
  },
  {
   "cell_type": "code",
   "execution_count": 27,
   "metadata": {
    "collapsed": true,
    "deletable": true,
    "editable": true
   },
   "outputs": [],
   "source": [
    "stopWords = set(stopwords.words(\"english\"))"
   ]
  },
  {
   "cell_type": "code",
   "execution_count": 28,
   "metadata": {
    "collapsed": false,
    "deletable": true,
    "editable": true,
    "scrolled": true
   },
   "outputs": [
    {
     "name": "stdout",
     "output_type": "stream",
     "text": [
      "{'him', 'me', 'should', 'an', 'same', 'more', 'most', 'didn', 'ma', 'about', 'from', 'how', 'own', 'll', 'up', 'some', 'who', 'o', 'i', 'on', 'not', 'other', 'our', 'they', 'to', 'are', 'until', 'yours', 'which', 'once', 'she', 'himself', 'because', 'ours', 'there', 'below', 'too', 'through', 'herself', 'before', 'than', 'yourself', 'those', 'down', 'hasn', 'over', 'whom', 'is', 'his', 'itself', 'such', 'm', 'with', 'hers', 'between', 'as', 'wouldn', 'wasn', 'what', 'off', 'been', 'theirs', 'just', 'and', 'does', 'haven', 'the', 'you', 'now', 'this', 'myself', 'then', 's', 'in', 'a', 'can', 'into', 've', 'y', 'did', 'where', 'mustn', 'both', 'ourselves', 'isn', 'while', 'hadn', 'had', 'their', 'we', 'when', 'themselves', 'shouldn', 'further', 'be', 'needn', 'by', 'will', 'during', 'all', 'my', 'couldn', 'won', 'here', 'that', 'weren', 'doesn', 'these', 'yourselves', 'were', 'aren', 'few', 'only', 'd', 'no', 'or', 'after', 'very', 'have', 'has', 'her', 'doing', 'but', 're', 'your', 'ain', 'for', 'out', 'under', 'do', 'why', 'don', 'he', 'at', 'again', 'above', 'against', 'mightn', 'am', 'having', 'of', 'was', 'shan', 'any', 'its', 'if', 'being', 'each', 'them', 'it', 'nor', 'so', 't'}\n"
     ]
    }
   ],
   "source": [
    "print(stopWords)"
   ]
  },
  {
   "cell_type": "code",
   "execution_count": 29,
   "metadata": {
    "collapsed": true,
    "deletable": true,
    "editable": true
   },
   "outputs": [],
   "source": [
    "words = word_tokenize(exampleText)"
   ]
  },
  {
   "cell_type": "code",
   "execution_count": 30,
   "metadata": {
    "collapsed": true,
    "deletable": true,
    "editable": true
   },
   "outputs": [],
   "source": [
    "wordsNotStopWords = filter(lambda w: w not in stopWords, words)"
   ]
  },
  {
   "cell_type": "code",
   "execution_count": 31,
   "metadata": {
    "collapsed": false,
    "deletable": true,
    "editable": true
   },
   "outputs": [
    {
     "name": "stdout",
     "output_type": "stream",
     "text": [
      "['This', 'example', 'text', 'stop', 'words', '.']\n"
     ]
    }
   ],
   "source": [
    "print(list(wordsNotStopWords))"
   ]
  }
 ],
 "metadata": {
  "kernelspec": {
   "display_name": "Python 3",
   "language": "python",
   "name": "python3"
  },
  "language_info": {
   "codemirror_mode": {
    "name": "ipython",
    "version": 3
   },
   "file_extension": ".py",
   "mimetype": "text/x-python",
   "name": "python",
   "nbconvert_exporter": "python",
   "pygments_lexer": "ipython3",
   "version": "3.5.3"
  }
 },
 "nbformat": 4,
 "nbformat_minor": 2
}
